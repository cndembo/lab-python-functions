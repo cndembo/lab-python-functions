{
 "cells": [
  {
   "cell_type": "markdown",
   "id": "16beade8-49ee-4927-ad1d-647d9c34b57a",
   "metadata": {},
   "source": [
    "Exercise: Managing Customer Orders with Functions\r\n",
    "In the previous exercise, you improved the code for managing customer orders by using loops and flow control. Now, let's take it a step further and refactor the code by introducing functions.\r\n",
    "\r\n",
    "Follow the steps below to complete the exercise:"
   ]
  },
  {
   "cell_type": "markdown",
   "id": "38d2d5dc-d374-49b0-8bed-79ea0a635553",
   "metadata": {},
   "source": [
    "1. Define a function named initialize_inventory that takes products as a parameter. Inside the function, implement the code for initializing the inventory dictionary using a loop and user input."
   ]
  },
  {
   "cell_type": "code",
   "execution_count": 3,
   "id": "a5c633c4-1bd9-493b-a589-8ebba04111c7",
   "metadata": {},
   "outputs": [
    {
     "name": "stdin",
     "output_type": "stream",
     "text": [
      "Enter a quantity for t-shirt 54\n",
      "Enter a quantity for mug 44\n",
      "Enter a quantity for hat 85\n",
      "Enter a quantity for book 95\n",
      "Enter a quantity for keychain 63\n"
     ]
    },
    {
     "name": "stdout",
     "output_type": "stream",
     "text": [
      "\n",
      "Products inventory:\n",
      " {'t-shirt': 54, 'mug': 44, 'hat': 85, 'book': 95, 'keychain': 63}\n"
     ]
    }
   ],
   "source": [
    "list_products = [\"t-shirt\", \"mug\", \"hat\", \"book\", \"keychain\"]\n",
    "\n",
    "def initialize_inventory(products):\n",
    "    inventory={}\n",
    "    for product in products:\n",
    "        inventory[product]=int(input(f\"Enter a quantity for {product}\"))\n",
    "    return inventory\n",
    "\n",
    "inventory = initialize_inventory(list_products)\n",
    "print(f\"\\nProducts inventory:\\n {inventory}\")"
   ]
  },
  {
   "cell_type": "markdown",
   "id": "4cc6717b-a5ff-4056-a001-e4347fc4735d",
   "metadata": {},
   "source": [
    "2. Define a function named get_customer_orders that takes no parameters. Inside the function, implement the code for prompting the user to enter the product names using a loop. The function should return the customer_orders set."
   ]
  },
  {
   "cell_type": "code",
   "execution_count": 5,
   "id": "053963a7-4c2b-48d8-b5a9-9add81f9a16f",
   "metadata": {},
   "outputs": [
    {
     "name": "stdout",
     "output_type": "stream",
     "text": [
      "List of available products:['t-shirt', 'mug', 'hat', 'book', 'keychain']\n",
      "\n"
     ]
    },
    {
     "name": "stdin",
     "output_type": "stream",
     "text": [
      "Inform the product you want to order: hat\n",
      "\n",
      "Order another product?(y/n) y\n",
      "Inform the product you want to order: mug\n",
      "\n",
      "Order another product?(y/n) y\n",
      "Inform the product you want to order: book\n",
      "\n",
      "Order another product?(y/n) n\n"
     ]
    },
    {
     "name": "stdout",
     "output_type": "stream",
     "text": [
      "The customer order is:\n",
      " {'mug', 'hat', 'book'}\n"
     ]
    }
   ],
   "source": [
    "def get_customer_orders():\n",
    "    answer=\"y\"\n",
    "    customer_items = set()#initializing the set that will store the products ordered by the customer\n",
    "    print(f\"List of available products:{list_products}\\n\") #informing the customer wich products are available\n",
    "    while answer == \"y\":\n",
    "        product_name = input(\"Inform the product you want to order:\")\n",
    "        if product_name in list_products:\n",
    "            customer_items.add(product_name)\n",
    "        else:\n",
    "            print(f\"Please enter an item from the list! '{product_name}' is not on our inventory!\")\n",
    "        answer = input(f\"\\nOrder another product?(y/n)\")\n",
    "    return customer_items\n",
    "\n",
    "customer_order = get_customer_orders()\n",
    "print(f\"\\nThe customer ordered:\\n {customer_order}\")"
   ]
  },
  {
   "cell_type": "markdown",
   "id": "ace97f48-704f-4c29-96e5-5183ac349eeb",
   "metadata": {},
   "source": [
    "3. Define a function named update_inventory that takes customer_orders and inventory as parameters. Inside the function, implement the code for updating the inventory dictionary based on the customer orders."
   ]
  },
  {
   "cell_type": "code",
   "execution_count": 74,
   "id": "b686e6ee-5259-4bf2-9e48-c8f3a301b005",
   "metadata": {},
   "outputs": [
    {
     "name": "stdout",
     "output_type": "stream",
     "text": [
      "\n",
      "This is the current inventory:\n",
      "{'t-shirt': 10, 'mug': 10, 'hat': 9, 'book': 10, 'keychain': 10}\n",
      "\n",
      "These are the items ordered by the customer:\n",
      "{'hat'}\n"
     ]
    },
    {
     "data": {
      "text/plain": [
       "{'t-shirt': 10, 'mug': 10, 'hat': 8, 'book': 10, 'keychain': 10}"
      ]
     },
     "execution_count": 74,
     "metadata": {},
     "output_type": "execute_result"
    }
   ],
   "source": [
    "\n",
    "def update_inventory(cust_order, inv):\n",
    "    print(f\"\\nThis is the current inventory:\\n{inventory}\")\n",
    "    print(f\"\\nThese are the items ordered by the customer:\\n{cust_order}\")\n",
    "    for item in inventory:\n",
    "        if item in cust_order:\n",
    "            inventory[item]-=1 \n",
    "    return inventory\n",
    "   \n",
    "update_inventory(customer_order, inventory)"
   ]
  },
  {
   "cell_type": "markdown",
   "id": "431e979d-4ecf-4375-a9b7-485024e58404",
   "metadata": {},
   "source": [
    "4. Define a function named calculate_order_statistics that takes customer_orders and products as parameters. Inside the function, implement the code for calculating the order statistics (total products ordered, and percentage of unique products ordered). The function should return these values."
   ]
  },
  {
   "cell_type": "code",
   "execution_count": 76,
   "id": "f9b5205c-7594-45b0-82a5-5ef33c2e1400",
   "metadata": {},
   "outputs": [],
   "source": [
    "def calculate_order_statistics(customer_order, products):\n",
    "    #calculate total products ordered\n",
    "    total_prod_order = len(customer_order)\n",
    "    \n",
    "    #calculate percentage of unique products ordered\n",
    "    perc_orders = total_prod_order/len(products)*100\n",
    "    \n",
    "    return total_prod_order, perc_orders\n",
    "\n",
    "total_prod, perc = calculate_order_statistics(customer_order, list_products)\n"
   ]
  },
  {
   "cell_type": "markdown",
   "id": "2f88e36c-9d41-467a-8a18-31b3efecaea6",
   "metadata": {},
   "source": [
    "5. Define a function named print_order_statistics that takes order_statistics as a parameter. Inside the function, implement the code for printing the order statistics."
   ]
  },
  {
   "cell_type": "code",
   "execution_count": 98,
   "id": "c4be53ba-05d1-47eb-b56d-64108213dc23",
   "metadata": {},
   "outputs": [
    {
     "name": "stdout",
     "output_type": "stream",
     "text": [
      "\n",
      "Order Statistics\n",
      "Total products ordered:1\n",
      "Percentage of products ordered:20.0%\n"
     ]
    }
   ],
   "source": [
    "def print_order_statistics(total, perc):\n",
    "    print(f\"\\nOrder Statistics\")\n",
    "    print(f\"Total products ordered:{total}\")\n",
    "    print(f\"Percentage of products ordered:{perc}%\")\n",
    "\n",
    "print_order_statistics(total_prod, perc)"
   ]
  },
  {
   "cell_type": "markdown",
   "id": "4016b924-90d0-4728-ba8b-db7697f4be11",
   "metadata": {},
   "source": [
    "6. Define a function named print_updated_inventory that takes inventory as a parameter. Inside the function, implement the code for printing the updated inventory."
   ]
  },
  {
   "cell_type": "code",
   "execution_count": 111,
   "id": "a02710a6-02cd-4676-a1b5-02b22b2fbf7a",
   "metadata": {},
   "outputs": [
    {
     "name": "stdout",
     "output_type": "stream",
     "text": [
      "\n",
      "Updated inventory:\n",
      "{'t-shirt': 1, 'mug': 1, 'hat': 1, 'book': 0, 'keychain': 1}\n"
     ]
    },
    {
     "data": {
      "text/plain": [
       "{'t-shirt': 1, 'mug': 1, 'hat': 1, 'book': 0, 'keychain': 1}"
      ]
     },
     "execution_count": 111,
     "metadata": {},
     "output_type": "execute_result"
    }
   ],
   "source": [
    "def print_updated_inventory(inventory):\n",
    "    print(f\"\\nUpdated inventory:\")\n",
    "    print(inventory)\n",
    "    return inventory\n",
    "\n",
    "print_updated_inventory(inventory)"
   ]
  },
  {
   "cell_type": "markdown",
   "id": "6df0a3ee-7f85-4596-9c24-b65f187a13b3",
   "metadata": {},
   "source": [
    "7. Call the functions in the appropriate sequence to execute the program and manage customer orders."
   ]
  },
  {
   "cell_type": "code",
   "execution_count": 115,
   "id": "91b7db6e-88a9-4612-b449-04c5cf7e48bb",
   "metadata": {},
   "outputs": [
    {
     "name": "stdin",
     "output_type": "stream",
     "text": [
      "Enter a quantity for t-shirt 1\n",
      "Enter a quantity for mug 1\n",
      "Enter a quantity for hat 1\n",
      "Enter a quantity for book 1\n",
      "Enter a quantity for keychain 1\n"
     ]
    },
    {
     "name": "stdout",
     "output_type": "stream",
     "text": [
      "List of available products:['t-shirt', 'mug', 'hat', 'book', 'keychain']\n",
      "\n"
     ]
    },
    {
     "name": "stdin",
     "output_type": "stream",
     "text": [
      "Inform the product you want to order: mug\n",
      "\n",
      "Order another product?(y/n) n\n"
     ]
    },
    {
     "name": "stdout",
     "output_type": "stream",
     "text": [
      "\n",
      "The customer order is:\n",
      " {'mug'}\n",
      "\n",
      "This is the current inventory:\n",
      "{'t-shirt': 1, 'mug': 1, 'hat': 1, 'book': 1, 'keychain': 1}\n",
      "\n",
      "These are the items ordered by the customer:\n",
      "{'mug'}\n",
      "\n",
      "Order Statistics\n",
      "Total products ordered:1\n",
      "Percentage of products ordered:20.0%\n",
      "\n",
      "Updated inventory:\n",
      "{'t-shirt': 1, 'mug': 0, 'hat': 1, 'book': 1, 'keychain': 1}\n",
      "\n",
      "The end!\n"
     ]
    }
   ],
   "source": [
    "#1.Function, implemented for initializing the inventory dictionary \n",
    "inventory = initialize_inventory(list_products)\n",
    "\n",
    "#2.Implemented for prompting the user to enter the product names and return customer order in a set\n",
    "customer_order = get_customer_orders()\n",
    "print(f\"\\nThe customer order is:\\n {customer_order}\")\n",
    "\n",
    "#3.Takes customer_orders and inventory as parameters and updates the inventory dictionary based on the customer orders.\n",
    "update_inventory(customer_order, inventory)\n",
    "\n",
    "#4.Takes customer_orders and products as parameters and calculates the order statistics (total products ordered, and percentage of unique products ordered).\n",
    "total_prod, perc = calculate_order_statistics(customer_order, list_products)\n",
    "\n",
    "#5.Takes order_statistics as a parameter and prints the order statistics.\n",
    "print_order_statistics(total_prod, perc)\n",
    "\n",
    "#6.Takes inventory as a parameter and prints the updated inventory.\n",
    "print_updated_inventory(inventory)\n",
    "\n",
    "print(\"\\nThe end!\")\n"
   ]
  },
  {
   "cell_type": "code",
   "execution_count": null,
   "id": "7afc3f5d-262a-4d4a-8105-725e71b2e9b6",
   "metadata": {},
   "outputs": [],
   "source": []
  }
 ],
 "metadata": {
  "kernelspec": {
   "display_name": "Python 3 (ipykernel)",
   "language": "python",
   "name": "python3"
  },
  "language_info": {
   "codemirror_mode": {
    "name": "ipython",
    "version": 3
   },
   "file_extension": ".py",
   "mimetype": "text/x-python",
   "name": "python",
   "nbconvert_exporter": "python",
   "pygments_lexer": "ipython3",
   "version": "3.12.4"
  }
 },
 "nbformat": 4,
 "nbformat_minor": 5
}
